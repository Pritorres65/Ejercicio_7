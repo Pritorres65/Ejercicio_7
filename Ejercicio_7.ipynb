{
  "nbformat": 4,
  "nbformat_minor": 0,
  "metadata": {
    "colab": {
      "provenance": [],
      "include_colab_link": true
    },
    "kernelspec": {
      "name": "python3",
      "display_name": "Python 3"
    },
    "language_info": {
      "name": "python"
    }
  },
  "cells": [
    {
      "cell_type": "markdown",
      "metadata": {
        "id": "view-in-github",
        "colab_type": "text"
      },
      "source": [
        "<a href=\"https://colab.research.google.com/github/Pritorres65/Ejercicio_7/blob/main/Ejercicio_7.ipynb\" target=\"_parent\"><img src=\"https://colab.research.google.com/assets/colab-badge.svg\" alt=\"Open In Colab\"/></a>"
      ]
    },
    {
      "cell_type": "code",
      "execution_count": 1,
      "metadata": {
        "colab": {
          "base_uri": "https://localhost:8080/"
        },
        "id": "F6HuRwLewxqF",
        "outputId": "1a571d9d-ca6e-4a4d-db51-e800a3811467"
      },
      "outputs": [
        {
          "output_type": "stream",
          "name": "stdout",
          "text": [
            "Un intervalo con 73 números no primos seguidos es: (155922, 155994)\n"
          ]
        }
      ],
      "source": [
        "# Ejercicio 7\n",
        "def es_primo(num):\n",
        "    if num < 2:\n",
        "        return False\n",
        "    for i in range(2, int(num**0.5) + 1):\n",
        "        if num % i == 0:\n",
        "            return False\n",
        "    return True\n",
        "\n",
        "def encontrar_primer_intervalo_no_primos(cantidad):\n",
        "    no_primos_seguidos = 0\n",
        "    inicio = 0\n",
        "\n",
        "    while True:\n",
        "        if not es_primo(inicio):\n",
        "            no_primos_seguidos += 1\n",
        "        else:\n",
        "            no_primos_seguidos = 0\n",
        "        if no_primos_seguidos == cantidad:\n",
        "            return (inicio - cantidad + 1, inicio)\n",
        "\n",
        "        inicio += 1\n",
        "intervalo = encontrar_primer_intervalo_no_primos(73)\n",
        "print(\"Un intervalo con 73 números no primos seguidos es:\", intervalo)"
      ]
    }
  ]
}